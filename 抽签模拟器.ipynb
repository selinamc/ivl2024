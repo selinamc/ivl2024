{
 "cells": [
  {
   "cell_type": "code",
   "execution_count": null,
   "metadata": {},
   "outputs": [],
   "source": [
    "import random\n",
    "import time\n",
    "# 初始化队伍列表\n",
    "teams = [\"ZETA\", \"WOLVES\", \"AXIZ\", \"AWG\", \"DOU5\", \"OMNI\", \"GH\", \"GG\", \"HHDG\", \"CAT\", \n",
    "         \"SZ\", \"FPX.ZQ\", \"RD\", \"GR\", \"TE\", \"RC\", \"FT\", \"B4U\", \"WBG\", \"MRC\"]\n",
    "\n",
    "# 初始化四个组\n",
    "groups = {'A': [], 'B': [], 'C': [], 'D': []}\n",
    "\n",
    "# 不放回随机抽样抽签过程\n",
    "draw_process = []\n",
    "while teams:\n",
    "    for group in ['A', 'B', 'C', 'D']:\n",
    "        if teams:\n",
    "            team = random.choice(teams)  # 随机选择一支队伍\n",
    "            groups[group].append(team)  # 将队伍添加到相应的组中\n",
    "            teams.remove(team)  # 从队伍列表中移除这支队伍，实现不放回抽样\n",
    "            draw_process.append(f\"抽出队伍：{team}，放入 {group} 组\")\n",
    "            \n",
    "\n",
    "# 抽签过程输出\n",
    "for step in draw_process:\n",
    "    print(step)\n",
    "    time.sleep(1)\n",
    "\n",
    "# 分组结果输出\n",
    "for group, teams in groups.items():\n",
    "    print(f\"\\nGroup {group}: {', '.join(teams)}\")\n"
   ]
  }
 ],
 "metadata": {
  "kernelspec": {
   "display_name": "base",
   "language": "python",
   "name": "python3"
  },
  "language_info": {
   "codemirror_mode": {
    "name": "ipython",
    "version": 3
   },
   "file_extension": ".py",
   "mimetype": "text/x-python",
   "name": "python",
   "nbconvert_exporter": "python",
   "pygments_lexer": "ipython3",
   "version": "3.9.13"
  }
 },
 "nbformat": 4,
 "nbformat_minor": 2
}
